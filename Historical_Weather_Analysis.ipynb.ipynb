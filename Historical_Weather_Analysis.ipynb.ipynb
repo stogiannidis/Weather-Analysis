{
 "cells": [
  {
   "cell_type": "markdown",
   "id": "6b0e2ee0",
   "metadata": {},
   "source": [
    "# Exploring the Weather in Athens\n",
    "\n",
    "\n",
    "---\n",
    "\n",
    ">Stogiannidis Ilias Marios <br />\n",
    ">Department of Informatics  <br />\n",
    ">Athens University of Economics and Business  <br />\n",
    ">stoyianel@gmail.com.gr"
   ]
  },
  {
   "cell_type": "markdown",
   "id": "525ff959",
   "metadata": {},
   "source": [
    "### Q1: Obtain the Data"
   ]
  },
  {
   "cell_type": "code",
   "execution_count": 1,
   "id": "0e0d528a",
   "metadata": {
    "scrolled": false
   },
   "outputs": [],
   "source": [
    "import numpy as np\n",
    "import pandas as pd\n",
    "pd.options.mode.chained_assignment = None\n",
    "import seaborn as sns\n",
    "\n",
    "import matplotlib.pyplot as plt\n",
    "\n",
    "import matplotlib\n",
    "import calendar"
   ]
  },
  {
   "cell_type": "markdown",
   "id": "724ed609",
   "metadata": {},
   "source": [
    "### Loading data from csv to python "
   ]
  },
  {
   "cell_type": "code",
   "execution_count": 2,
   "id": "4bcb9d87",
   "metadata": {},
   "outputs": [
    {
     "data": {
      "text/html": [
       "<div>\n",
       "<style scoped>\n",
       "    .dataframe tbody tr th:only-of-type {\n",
       "        vertical-align: middle;\n",
       "    }\n",
       "\n",
       "    .dataframe tbody tr th {\n",
       "        vertical-align: top;\n",
       "    }\n",
       "\n",
       "    .dataframe thead th {\n",
       "        text-align: right;\n",
       "    }\n",
       "</style>\n",
       "<table border=\"1\" class=\"dataframe\">\n",
       "  <thead>\n",
       "    <tr style=\"text-align: right;\">\n",
       "      <th></th>\n",
       "      <th>STATION</th>\n",
       "      <th>DATE</th>\n",
       "      <th>PRCP</th>\n",
       "      <th>TAVG</th>\n",
       "    </tr>\n",
       "  </thead>\n",
       "  <tbody>\n",
       "    <tr>\n",
       "      <th>0</th>\n",
       "      <td>GR000016716</td>\n",
       "      <td>1955-01-01</td>\n",
       "      <td>0.0</td>\n",
       "      <td>NaN</td>\n",
       "    </tr>\n",
       "    <tr>\n",
       "      <th>1</th>\n",
       "      <td>GR000016716</td>\n",
       "      <td>1955-01-02</td>\n",
       "      <td>2.0</td>\n",
       "      <td>NaN</td>\n",
       "    </tr>\n",
       "    <tr>\n",
       "      <th>2</th>\n",
       "      <td>GR000016716</td>\n",
       "      <td>1955-01-03</td>\n",
       "      <td>0.0</td>\n",
       "      <td>NaN</td>\n",
       "    </tr>\n",
       "    <tr>\n",
       "      <th>3</th>\n",
       "      <td>GR000016716</td>\n",
       "      <td>1955-01-04</td>\n",
       "      <td>0.0</td>\n",
       "      <td>NaN</td>\n",
       "    </tr>\n",
       "    <tr>\n",
       "      <th>4</th>\n",
       "      <td>GR000016716</td>\n",
       "      <td>1955-01-05</td>\n",
       "      <td>0.0</td>\n",
       "      <td>NaN</td>\n",
       "    </tr>\n",
       "  </tbody>\n",
       "</table>\n",
       "</div>"
      ],
      "text/plain": [
       "       STATION        DATE  PRCP  TAVG\n",
       "0  GR000016716  1955-01-01   0.0   NaN\n",
       "1  GR000016716  1955-01-02   2.0   NaN\n",
       "2  GR000016716  1955-01-03   0.0   NaN\n",
       "3  GR000016716  1955-01-04   0.0   NaN\n",
       "4  GR000016716  1955-01-05   0.0   NaN"
      ]
     },
     "execution_count": 2,
     "metadata": {},
     "output_type": "execute_result"
    }
   ],
   "source": [
    "wdata = pd.read_csv(\"data.csv\")\n",
    "wdata.head()"
   ]
  },
  {
   "cell_type": "markdown",
   "id": "f9434e0f",
   "metadata": {},
   "source": [
    "We know that all data are from the Hellinikon station <br />\n",
    "so we can drop the station column"
   ]
  },
  {
   "cell_type": "code",
   "execution_count": 3,
   "id": "f34ce651",
   "metadata": {},
   "outputs": [],
   "source": [
    "wdata = wdata.drop(columns = 'STATION')"
   ]
  },
  {
   "cell_type": "markdown",
   "metadata": {},
   "source": [
    "Changing date column from strin to datetime for better usage"
   ]
  },
  {
   "cell_type": "code",
   "execution_count": 4,
   "metadata": {},
   "outputs": [],
   "source": [
    "wdata['DATE']= pd.to_datetime(wdata['DATE'])"
   ]
  },
  {
   "cell_type": "markdown",
   "metadata": {},
   "source": [
    "Below we see there are missing values in both columns."
   ]
  },
  {
   "cell_type": "code",
   "execution_count": 5,
   "id": "641b3dcd",
   "metadata": {},
   "outputs": [
    {
     "data": {
      "text/plain": [
       "True"
      ]
     },
     "execution_count": 5,
     "metadata": {},
     "output_type": "execute_result"
    }
   ],
   "source": [
    "wdata['PRCP'].isnull().values.any()"
   ]
  },
  {
   "cell_type": "code",
   "execution_count": 6,
   "id": "95ad9cb4",
   "metadata": {},
   "outputs": [
    {
     "data": {
      "text/plain": [
       "True"
      ]
     },
     "execution_count": 6,
     "metadata": {},
     "output_type": "execute_result"
    }
   ],
   "source": [
    "wdata['TAVG'].isnull().values.any()"
   ]
  },
  {
   "cell_type": "markdown",
   "id": "b968b740",
   "metadata": {},
   "source": [
    "Quickly running through the dataset we see there are columns with \"---\" as values <br />\n",
    "Because we want these columns to be float in order to use them for mathematical operations <br />\n",
    "I changed the \"---\" to an empty cell"
   ]
  },
  {
   "cell_type": "code",
   "execution_count": 7,
   "id": "f54d1cd9",
   "metadata": {},
   "outputs": [
    {
     "data": {
      "text/plain": [
       "(3652, 14)"
      ]
     },
     "execution_count": 7,
     "metadata": {},
     "output_type": "execute_result"
    }
   ],
   "source": [
    "hellenic_data = pd.read_csv('athens.csv', names = ['DATE','TAVG','MaxTemp','MinTemp','MeanHum','MaxHum','MinHum','MeanPress','MaxPress','MinPress','PRCP','WindSpeed','WindDir','WindGust'])\n",
    "hellenic_data['DATE']= pd.to_datetime(hellenic_data['DATE'])\n",
    "hellenic_data.shape"
   ]
  },
  {
   "cell_type": "code",
   "execution_count": 8,
   "metadata": {},
   "outputs": [
    {
     "data": {
      "text/plain": [
       "(23251, 3)"
      ]
     },
     "execution_count": 8,
     "metadata": {},
     "output_type": "execute_result"
    }
   ],
   "source": [
    "wdata.shape"
   ]
  },
  {
   "cell_type": "markdown",
   "id": "d0cfc548",
   "metadata": {},
   "source": [
    "Before doing the merging we can observe that the dataframe has 23251 rows. <br />\n",
    "Knowing that the rows represent days through the years 1955 to 2020, <br />\n",
    "we can conclude that there are days that are missing from the dataset <br />\n",
    "as there should 24107 days. We see that the alternative data are ok since <br />\n",
    "it has 3652 rows <br />"
   ]
  },
  {
   "cell_type": "code",
   "execution_count": 9,
   "id": "d21c83e8",
   "metadata": {},
   "outputs": [
    {
     "data": {
      "text/plain": [
       "(24107, 5)"
      ]
     },
     "execution_count": 9,
     "metadata": {},
     "output_type": "execute_result"
    }
   ],
   "source": [
    "cdata = pd.merge(wdata,\n",
    "                   hellenic_data[['DATE','PRCP','TAVG']],\n",
    "                   on = 'DATE',\n",
    "                   how = 'outer').sort_values('DATE').set_index('DATE')\n",
    "cdata = (cdata.reindex(pd.date_range(cdata.index.min(), cdata.index.max(), name='DATE'), fill_value=0)\n",
    "        .reset_index())\n",
    "cdata.shape"
   ]
  },
  {
   "cell_type": "markdown",
   "metadata": {},
   "source": [
    "We see that our new dataset has 24107 rows so we can proceed"
   ]
  },
  {
   "cell_type": "markdown",
   "id": "221e27ff",
   "metadata": {},
   "source": [
    "Filling all NaN values of PRCP_x with the PRCP_y values <br />\n",
    "and the TAVG_x with those in TAVG_y knowing that \\_y names <br />\n",
    "represent the new values from dataset downloaded from <br />\n",
    "Hellenic Date Service"
   ]
  },
  {
   "cell_type": "code",
   "execution_count": 10,
   "id": "5798a767",
   "metadata": {},
   "outputs": [],
   "source": [
    "cdata['PRCP_x'].fillna(cdata['PRCP_y'], inplace = True)\n",
    "cdata['TAVG_x'].fillna(cdata['TAVG_y'], inplace = True)"
   ]
  },
  {
   "cell_type": "markdown",
   "id": "23248fc1",
   "metadata": {},
   "source": [
    "Formating the data as we like"
   ]
  },
  {
   "cell_type": "code",
   "execution_count": 11,
   "id": "d61de178",
   "metadata": {},
   "outputs": [
    {
     "data": {
      "text/html": [
       "<div>\n",
       "<style scoped>\n",
       "    .dataframe tbody tr th:only-of-type {\n",
       "        vertical-align: middle;\n",
       "    }\n",
       "\n",
       "    .dataframe tbody tr th {\n",
       "        vertical-align: top;\n",
       "    }\n",
       "\n",
       "    .dataframe thead th {\n",
       "        text-align: right;\n",
       "    }\n",
       "</style>\n",
       "<table border=\"1\" class=\"dataframe\">\n",
       "  <thead>\n",
       "    <tr style=\"text-align: right;\">\n",
       "      <th></th>\n",
       "      <th>DATE</th>\n",
       "      <th>PRCP</th>\n",
       "      <th>TAVG</th>\n",
       "    </tr>\n",
       "  </thead>\n",
       "  <tbody>\n",
       "    <tr>\n",
       "      <th>0</th>\n",
       "      <td>1955-01-01</td>\n",
       "      <td>0.0</td>\n",
       "      <td>NaN</td>\n",
       "    </tr>\n",
       "    <tr>\n",
       "      <th>1</th>\n",
       "      <td>1955-01-02</td>\n",
       "      <td>2.0</td>\n",
       "      <td>NaN</td>\n",
       "    </tr>\n",
       "    <tr>\n",
       "      <th>2</th>\n",
       "      <td>1955-01-03</td>\n",
       "      <td>0.0</td>\n",
       "      <td>NaN</td>\n",
       "    </tr>\n",
       "    <tr>\n",
       "      <th>3</th>\n",
       "      <td>1955-01-04</td>\n",
       "      <td>0.0</td>\n",
       "      <td>NaN</td>\n",
       "    </tr>\n",
       "    <tr>\n",
       "      <th>4</th>\n",
       "      <td>1955-01-05</td>\n",
       "      <td>0.0</td>\n",
       "      <td>NaN</td>\n",
       "    </tr>\n",
       "    <tr>\n",
       "      <th>...</th>\n",
       "      <td>...</td>\n",
       "      <td>...</td>\n",
       "      <td>...</td>\n",
       "    </tr>\n",
       "    <tr>\n",
       "      <th>24102</th>\n",
       "      <td>2020-12-27</td>\n",
       "      <td>0.0</td>\n",
       "      <td>16.6</td>\n",
       "    </tr>\n",
       "    <tr>\n",
       "      <th>24103</th>\n",
       "      <td>2020-12-28</td>\n",
       "      <td>6.6</td>\n",
       "      <td>14.8</td>\n",
       "    </tr>\n",
       "    <tr>\n",
       "      <th>24104</th>\n",
       "      <td>2020-12-29</td>\n",
       "      <td>0.0</td>\n",
       "      <td>16.3</td>\n",
       "    </tr>\n",
       "    <tr>\n",
       "      <th>24105</th>\n",
       "      <td>2020-12-30</td>\n",
       "      <td>0.0</td>\n",
       "      <td>16.4</td>\n",
       "    </tr>\n",
       "    <tr>\n",
       "      <th>24106</th>\n",
       "      <td>2020-12-31</td>\n",
       "      <td>0.0</td>\n",
       "      <td>15.4</td>\n",
       "    </tr>\n",
       "  </tbody>\n",
       "</table>\n",
       "<p>24107 rows × 3 columns</p>\n",
       "</div>"
      ],
      "text/plain": [
       "            DATE  PRCP  TAVG\n",
       "0     1955-01-01   0.0   NaN\n",
       "1     1955-01-02   2.0   NaN\n",
       "2     1955-01-03   0.0   NaN\n",
       "3     1955-01-04   0.0   NaN\n",
       "4     1955-01-05   0.0   NaN\n",
       "...          ...   ...   ...\n",
       "24102 2020-12-27   0.0  16.6\n",
       "24103 2020-12-28   6.6  14.8\n",
       "24104 2020-12-29   0.0  16.3\n",
       "24105 2020-12-30   0.0  16.4\n",
       "24106 2020-12-31   0.0  15.4\n",
       "\n",
       "[24107 rows x 3 columns]"
      ]
     },
     "execution_count": 11,
     "metadata": {},
     "output_type": "execute_result"
    }
   ],
   "source": [
    "cdata = cdata.rename(columns={'PRCP_x': 'PRCP'})\n",
    "cdata = cdata.drop(columns = 'PRCP_y')\n",
    "cdata = cdata.rename(columns={'TAVG_x': 'TAVG'})\n",
    "cdata = cdata.drop(columns = 'TAVG_y')\n",
    "cdata"
   ]
  },
  {
   "cell_type": "markdown",
   "id": "b8f5cf7e",
   "metadata": {},
   "source": [
    "### Q2: Deviation of Summer Temperatures"
   ]
  },
  {
   "cell_type": "markdown",
   "metadata": {},
   "source": [
    "Mapping each month with a season"
   ]
  },
  {
   "cell_type": "code",
   "execution_count": 12,
   "id": "94fe5dfd",
   "metadata": {},
   "outputs": [
    {
     "data": {
      "text/html": [
       "<div>\n",
       "<style scoped>\n",
       "    .dataframe tbody tr th:only-of-type {\n",
       "        vertical-align: middle;\n",
       "    }\n",
       "\n",
       "    .dataframe tbody tr th {\n",
       "        vertical-align: top;\n",
       "    }\n",
       "\n",
       "    .dataframe thead th {\n",
       "        text-align: right;\n",
       "    }\n",
       "</style>\n",
       "<table border=\"1\" class=\"dataframe\">\n",
       "  <thead>\n",
       "    <tr style=\"text-align: right;\">\n",
       "      <th></th>\n",
       "      <th>DATE</th>\n",
       "      <th>PRCP</th>\n",
       "      <th>TAVG</th>\n",
       "      <th>season_name</th>\n",
       "    </tr>\n",
       "  </thead>\n",
       "  <tbody>\n",
       "    <tr>\n",
       "      <th>151</th>\n",
       "      <td>1955-06-01</td>\n",
       "      <td>0.0</td>\n",
       "      <td>NaN</td>\n",
       "      <td>Summer</td>\n",
       "    </tr>\n",
       "    <tr>\n",
       "      <th>152</th>\n",
       "      <td>1955-06-02</td>\n",
       "      <td>0.0</td>\n",
       "      <td>NaN</td>\n",
       "      <td>Summer</td>\n",
       "    </tr>\n",
       "    <tr>\n",
       "      <th>153</th>\n",
       "      <td>1955-06-03</td>\n",
       "      <td>0.0</td>\n",
       "      <td>NaN</td>\n",
       "      <td>Summer</td>\n",
       "    </tr>\n",
       "    <tr>\n",
       "      <th>154</th>\n",
       "      <td>1955-06-04</td>\n",
       "      <td>0.0</td>\n",
       "      <td>NaN</td>\n",
       "      <td>Summer</td>\n",
       "    </tr>\n",
       "    <tr>\n",
       "      <th>155</th>\n",
       "      <td>1955-06-05</td>\n",
       "      <td>0.0</td>\n",
       "      <td>NaN</td>\n",
       "      <td>Summer</td>\n",
       "    </tr>\n",
       "    <tr>\n",
       "      <th>...</th>\n",
       "      <td>...</td>\n",
       "      <td>...</td>\n",
       "      <td>...</td>\n",
       "      <td>...</td>\n",
       "    </tr>\n",
       "    <tr>\n",
       "      <th>23980</th>\n",
       "      <td>2020-08-27</td>\n",
       "      <td>0.0</td>\n",
       "      <td>28.3</td>\n",
       "      <td>Summer</td>\n",
       "    </tr>\n",
       "    <tr>\n",
       "      <th>23981</th>\n",
       "      <td>2020-08-28</td>\n",
       "      <td>0.0</td>\n",
       "      <td>29.5</td>\n",
       "      <td>Summer</td>\n",
       "    </tr>\n",
       "    <tr>\n",
       "      <th>23982</th>\n",
       "      <td>2020-08-29</td>\n",
       "      <td>0.0</td>\n",
       "      <td>29.3</td>\n",
       "      <td>Summer</td>\n",
       "    </tr>\n",
       "    <tr>\n",
       "      <th>23983</th>\n",
       "      <td>2020-08-30</td>\n",
       "      <td>0.0</td>\n",
       "      <td>27.8</td>\n",
       "      <td>Summer</td>\n",
       "    </tr>\n",
       "    <tr>\n",
       "      <th>23984</th>\n",
       "      <td>2020-08-31</td>\n",
       "      <td>0.0</td>\n",
       "      <td>30.4</td>\n",
       "      <td>Summer</td>\n",
       "    </tr>\n",
       "  </tbody>\n",
       "</table>\n",
       "<p>6072 rows × 4 columns</p>\n",
       "</div>"
      ],
      "text/plain": [
       "            DATE  PRCP  TAVG season_name\n",
       "151   1955-06-01   0.0   NaN      Summer\n",
       "152   1955-06-02   0.0   NaN      Summer\n",
       "153   1955-06-03   0.0   NaN      Summer\n",
       "154   1955-06-04   0.0   NaN      Summer\n",
       "155   1955-06-05   0.0   NaN      Summer\n",
       "...          ...   ...   ...         ...\n",
       "23980 2020-08-27   0.0  28.3      Summer\n",
       "23981 2020-08-28   0.0  29.5      Summer\n",
       "23982 2020-08-29   0.0  29.3      Summer\n",
       "23983 2020-08-30   0.0  27.8      Summer\n",
       "23984 2020-08-31   0.0  30.4      Summer\n",
       "\n",
       "[6072 rows x 4 columns]"
      ]
     },
     "execution_count": 12,
     "metadata": {},
     "output_type": "execute_result"
    }
   ],
   "source": [
    "cdata['DATE'] = pd.to_datetime(cdata['DATE'])\n",
    "data_seasons = (cdata['DATE'].dt.month%12 + 3)//3\n",
    "seasons = {\n",
    "             1: 'Winter',\n",
    "             2: 'Spring',\n",
    "             3: 'Summer',\n",
    "             4: 'Autumn'\n",
    "}\n",
    "cdata['season_name'] = data_seasons.map(seasons)\n",
    "cdata[cdata['season_name'] == 'Summer']"
   ]
  },
  {
   "cell_type": "markdown",
   "metadata": {},
   "source": [
    "Collecting data for all summers between 1974 and 1999"
   ]
  },
  {
   "cell_type": "code",
   "execution_count": 13,
   "id": "7d9146d2",
   "metadata": {
    "scrolled": true
   },
   "outputs": [
    {
     "data": {
      "text/html": [
       "<div>\n",
       "<style scoped>\n",
       "    .dataframe tbody tr th:only-of-type {\n",
       "        vertical-align: middle;\n",
       "    }\n",
       "\n",
       "    .dataframe tbody tr th {\n",
       "        vertical-align: top;\n",
       "    }\n",
       "\n",
       "    .dataframe thead th {\n",
       "        text-align: right;\n",
       "    }\n",
       "</style>\n",
       "<table border=\"1\" class=\"dataframe\">\n",
       "  <thead>\n",
       "    <tr style=\"text-align: right;\">\n",
       "      <th></th>\n",
       "      <th>DATE</th>\n",
       "      <th>PRCP</th>\n",
       "      <th>TAVG</th>\n",
       "      <th>season_name</th>\n",
       "    </tr>\n",
       "  </thead>\n",
       "  <tbody>\n",
       "    <tr>\n",
       "      <th>7091</th>\n",
       "      <td>1974-06-01</td>\n",
       "      <td>0.0</td>\n",
       "      <td>22.7</td>\n",
       "      <td>Summer</td>\n",
       "    </tr>\n",
       "    <tr>\n",
       "      <th>7092</th>\n",
       "      <td>1974-06-02</td>\n",
       "      <td>0.0</td>\n",
       "      <td>23.2</td>\n",
       "      <td>Summer</td>\n",
       "    </tr>\n",
       "    <tr>\n",
       "      <th>7093</th>\n",
       "      <td>1974-06-03</td>\n",
       "      <td>0.2</td>\n",
       "      <td>22.2</td>\n",
       "      <td>Summer</td>\n",
       "    </tr>\n",
       "    <tr>\n",
       "      <th>7094</th>\n",
       "      <td>1974-06-04</td>\n",
       "      <td>2.5</td>\n",
       "      <td>21.0</td>\n",
       "      <td>Summer</td>\n",
       "    </tr>\n",
       "    <tr>\n",
       "      <th>7095</th>\n",
       "      <td>1974-06-05</td>\n",
       "      <td>0.0</td>\n",
       "      <td>24.0</td>\n",
       "      <td>Summer</td>\n",
       "    </tr>\n",
       "  </tbody>\n",
       "</table>\n",
       "</div>"
      ],
      "text/plain": [
       "           DATE  PRCP  TAVG season_name\n",
       "7091 1974-06-01   0.0  22.7      Summer\n",
       "7092 1974-06-02   0.0  23.2      Summer\n",
       "7093 1974-06-03   0.2  22.2      Summer\n",
       "7094 1974-06-04   2.5  21.0      Summer\n",
       "7095 1974-06-05   0.0  24.0      Summer"
      ]
     },
     "execution_count": 13,
     "metadata": {},
     "output_type": "execute_result"
    }
   ],
   "source": [
    "summer_temp = cdata[(cdata['season_name'] == 'Summer') & (cdata ['DATE'].dt.year >= 1974) \n",
    "                    & (cdata ['DATE'].dt.year <= 1999) ]\n",
    "summer_temp.head()"
   ]
  },
  {
   "cell_type": "markdown",
   "metadata": {},
   "source": [
    "Calculating the deviation of air temperature from the average temperature of summers trough the year"
   ]
  },
  {
   "cell_type": "code",
   "execution_count": 14,
   "id": "ab02488b",
   "metadata": {},
   "outputs": [
    {
     "data": {
      "text/html": [
       "<div>\n",
       "<style scoped>\n",
       "    .dataframe tbody tr th:only-of-type {\n",
       "        vertical-align: middle;\n",
       "    }\n",
       "\n",
       "    .dataframe tbody tr th {\n",
       "        vertical-align: top;\n",
       "    }\n",
       "\n",
       "    .dataframe thead th {\n",
       "        text-align: right;\n",
       "    }\n",
       "</style>\n",
       "<table border=\"1\" class=\"dataframe\">\n",
       "  <thead>\n",
       "    <tr style=\"text-align: right;\">\n",
       "      <th></th>\n",
       "      <th>DATE</th>\n",
       "      <th>PRCP</th>\n",
       "      <th>TAVG</th>\n",
       "      <th>season_name</th>\n",
       "      <th>MEAN_DEV</th>\n",
       "      <th>YEAR</th>\n",
       "      <th>YEARLY_AVG</th>\n",
       "    </tr>\n",
       "  </thead>\n",
       "  <tbody>\n",
       "    <tr>\n",
       "      <th>7091</th>\n",
       "      <td>1974-06-01</td>\n",
       "      <td>0.0</td>\n",
       "      <td>22.7</td>\n",
       "      <td>Summer</td>\n",
       "      <td>-3.532146</td>\n",
       "      <td>1974</td>\n",
       "      <td>24.783696</td>\n",
       "    </tr>\n",
       "    <tr>\n",
       "      <th>7092</th>\n",
       "      <td>1974-06-02</td>\n",
       "      <td>0.0</td>\n",
       "      <td>23.2</td>\n",
       "      <td>Summer</td>\n",
       "      <td>-3.032146</td>\n",
       "      <td>1974</td>\n",
       "      <td>24.783696</td>\n",
       "    </tr>\n",
       "    <tr>\n",
       "      <th>7093</th>\n",
       "      <td>1974-06-03</td>\n",
       "      <td>0.2</td>\n",
       "      <td>22.2</td>\n",
       "      <td>Summer</td>\n",
       "      <td>-4.032146</td>\n",
       "      <td>1974</td>\n",
       "      <td>24.783696</td>\n",
       "    </tr>\n",
       "    <tr>\n",
       "      <th>7094</th>\n",
       "      <td>1974-06-04</td>\n",
       "      <td>2.5</td>\n",
       "      <td>21.0</td>\n",
       "      <td>Summer</td>\n",
       "      <td>-5.232146</td>\n",
       "      <td>1974</td>\n",
       "      <td>24.783696</td>\n",
       "    </tr>\n",
       "    <tr>\n",
       "      <th>7095</th>\n",
       "      <td>1974-06-05</td>\n",
       "      <td>0.0</td>\n",
       "      <td>24.0</td>\n",
       "      <td>Summer</td>\n",
       "      <td>-2.232146</td>\n",
       "      <td>1974</td>\n",
       "      <td>24.783696</td>\n",
       "    </tr>\n",
       "  </tbody>\n",
       "</table>\n",
       "</div>"
      ],
      "text/plain": [
       "           DATE  PRCP  TAVG season_name  MEAN_DEV  YEAR  YEARLY_AVG\n",
       "7091 1974-06-01   0.0  22.7      Summer -3.532146  1974   24.783696\n",
       "7092 1974-06-02   0.0  23.2      Summer -3.032146  1974   24.783696\n",
       "7093 1974-06-03   0.2  22.2      Summer -4.032146  1974   24.783696\n",
       "7094 1974-06-04   2.5  21.0      Summer -5.232146  1974   24.783696\n",
       "7095 1974-06-05   0.0  24.0      Summer -2.232146  1974   24.783696"
      ]
     },
     "execution_count": 14,
     "metadata": {},
     "output_type": "execute_result"
    }
   ],
   "source": [
    "summer_temp['MEAN_DEV'] = summer_temp['TAVG']- summer_temp['TAVG'].mean()\n",
    "summer_temp['YEAR'] = summer_temp['DATE'].dt.year\n",
    "summer_temp['YEARLY_AVG'] = summer_temp.groupby(['YEAR'])['TAVG'].transform(sum)\n",
    "summer_temp['YEARLY_AVG'] /= 92\n",
    "summer_temp.head()"
   ]
  },
  {
   "cell_type": "markdown",
   "metadata": {},
   "source": [
    "Calculating the rolling average of the deviation calculated above"
   ]
  },
  {
   "cell_type": "code",
   "execution_count": 15,
   "id": "9191dd51",
   "metadata": {},
   "outputs": [],
   "source": [
    "summer_by_dt = summer_temp[['YEAR','YEARLY_AVG']].copy()\n",
    "summer_by_dt.drop_duplicates(keep='first',inplace=True)\n",
    "summer_by_dt['MEAN_DEV'] = summer_by_dt['YEARLY_AVG'] - summer_temp['TAVG'].mean()\n",
    "summer_by_dt.drop(columns = 'YEARLY_AVG', inplace = True)\n",
    "summer_by_dt['ROLLING_AVG'] = summer_by_dt[\"MEAN_DEV\"].rolling(10,min_periods=1).mean()\n"
   ]
  },
  {
   "cell_type": "code",
   "execution_count": 16,
   "id": "0ee2aff9",
   "metadata": {},
   "outputs": [
    {
     "data": {
      "image/png": "[encoded data removed]",
      "text/plain": [
       "<Figure size 432x288 with 1 Axes>"
      ]
     },
     "metadata": {
      "needs_background": "light"
     },
     "output_type": "display_data"
    }
   ],
   "source": [
    "plt.grid()\n",
    "plt.bar(summer_by_dt.YEAR,summer_by_dt.MEAN_DEV,color = (summer_by_dt.MEAN_DEV > 0).map({True: 'firebrick',\n",
    "                                                    False: 'royalblue'}),width=0.3)\n",
    "\n",
    "plt.plot(summer_by_dt.YEAR,summer_by_dt.ROLLING_AVG, color = 'coral')                                             \n",
    "plt.xlabel(\"Year\")\n",
    "plt.ylabel(\"Mean temperature deviation\")\n",
    "plt.title(\"Deviation of Summer Temperatures\")\n",
    "\n",
    "plt.show()"
   ]
  },
  {
   "cell_type": "markdown",
   "metadata": {},
   "source": [
    "We can notice that as we look back to previous years summer temperature is colder than the average, <br />\n",
    "and as we progress through the years the temperature is increasing"
   ]
  },
  {
   "cell_type": "markdown",
   "metadata": {},
   "source": [
    "### Q3: Evolution of Daily Temperatures"
   ]
  },
  {
   "cell_type": "markdown",
   "metadata": {},
   "source": [
    "Collectin the average temperate for each year for the full period from 1955 to 2020 and <br />\n",
    "calculate the 30 day rolling average"
   ]
  },
  {
   "cell_type": "code",
   "execution_count": 17,
   "metadata": {},
   "outputs": [],
   "source": [
    "\n",
    "temp = cdata[[\"DATE\",\"TAVG\"]].copy()\n",
    "temp[\"YEAR\"] = temp[\"DATE\"].dt.year\n",
    "temp[\"RAVG\"] = temp[\"TAVG\"].rolling(30,min_periods = 1).mean()\n"
   ]
  },
  {
   "cell_type": "markdown",
   "metadata": {},
   "source": [
    "Calculating the average daily temperature of every day "
   ]
  },
  {
   "cell_type": "code",
   "execution_count": 18,
   "metadata": {},
   "outputs": [],
   "source": [
    "dailyy = cdata[(cdata ['DATE'].dt.year >= 1974) \n",
    "                    & (cdata ['DATE'].dt.year <= 1999)].copy()\n",
    "dailyy.drop(columns=\"season_name\", inplace=True)"
   ]
  },
  {
   "cell_type": "markdown",
   "metadata": {},
   "source": [
    "Calculating mean air temperature for every day of the year <br />\n",
    "and its rolling average based on years between 1974 and 1999."
   ]
  },
  {
   "cell_type": "code",
   "execution_count": 19,
   "metadata": {},
   "outputs": [],
   "source": [
    "data = dailyy.groupby(dailyy.DATE.astype(str).str[5:])['TAVG'].mean().copy()\n",
    "ddata = pd.DataFrame(data)\n",
    "ddata.reset_index(inplace=True)\n",
    "ddata[\"RAVG\"] = ddata[\"TAVG\"].rolling(10, min_periods=1).mean()"
   ]
  },
  {
   "cell_type": "markdown",
   "metadata": {},
   "source": [
    "Creating a column month in order to use in plot creation"
   ]
  },
  {
   "cell_type": "code",
   "execution_count": 20,
   "metadata": {},
   "outputs": [],
   "source": [
    "ddata[\"Month\"] = ddata.DATE.str[:2].str.lstrip('0')\n",
    "ddata[\"Month\"] = ddata[\"Month\"].astype(int)"
   ]
  },
  {
   "cell_type": "markdown",
   "metadata": {},
   "source": [
    "Creating DM column in order to use it for the mapping <br />\n",
    "DM stands fro day-month"
   ]
  },
  {
   "cell_type": "code",
   "execution_count": 21,
   "metadata": {},
   "outputs": [],
   "source": [
    "dailyy[\"DM\"]  = dailyy.DATE.astype(str).str[5:]\n",
    "temp[\"DM\"]  = temp.DATE.astype(str).str[5:]"
   ]
  },
  {
   "cell_type": "code",
   "execution_count": 22,
   "metadata": {},
   "outputs": [
    {
     "data": {
      "image/png": "[encoded data removed]",
      "text/plain": [
       "<Figure size 432x288 with 1 Axes>"
      ]
     },
     "metadata": {
      "needs_background": "light"
     },
     "output_type": "display_data"
    }
   ],
   "source": [
    "from matplotlib.ticker import NullFormatter\n",
    "from matplotlib.dates import MonthLocator, DateFormatter\n",
    "\n",
    "sns.lineplot(\n",
    "    x=\"DM\",\n",
    "    y='RAVG',\n",
    "    hue=temp['DATE'].dt.year,\n",
    "    palette=sns.color_palette(\"YlOrBr\", as_cmap=True),\n",
    "    data= temp,\n",
    "    ci=None,\n",
    "    legend=None)\n",
    "\n",
    "\n",
    "sns.lineplot(\n",
    "    x=\"DATE\",\n",
    "    y= 'RAVG',\n",
    "    color = 'black',\n",
    "    data= ddata,\n",
    "    ci=None,\n",
    "    legend=None)\n",
    "\n",
    "ax = plt.gca()\n",
    "ax.xaxis.set_major_locator(MonthLocator())\n",
    "ax.xaxis.set_major_formatter(DateFormatter('%b'))\n",
    "plt.show()"
   ]
  },
  {
   "cell_type": "markdown",
   "metadata": {},
   "source": [
    "Looking at the graph we can notice that the air temperature rises in spring and summer and falls in fall and  winther "
   ]
  },
  {
   "cell_type": "markdown",
   "metadata": {},
   "source": [
    "### Q4: Extreme Temperature Events"
   ]
  },
  {
   "cell_type": "markdown",
   "metadata": {},
   "source": [
    "Finding the devation of extreme heat events of the baseline"
   ]
  },
  {
   "cell_type": "code",
   "execution_count": 23,
   "metadata": {},
   "outputs": [],
   "source": [
    "dailyy['DEV'] = ((dailyy.TAVG - dailyy.DM.map(ddata.set_index('DATE').TAVG))/dailyy.DM.map(ddata.set_index('DATE').TAVG))"
   ]
  },
  {
   "cell_type": "markdown",
   "metadata": {},
   "source": [
    "Counting all those who are above 10%"
   ]
  },
  {
   "cell_type": "code",
   "execution_count": 24,
   "metadata": {},
   "outputs": [],
   "source": [
    "baseline = dailyy[dailyy[\"DEV\"]>0.1].groupby(dailyy[\"DATE\"].dt.year).agg('count')\n",
    "baseline.drop(columns={\"DATE\",\"PRCP\",\"DM\",\"TAVG\"},inplace=True)\n"
   ]
  },
  {
   "cell_type": "markdown",
   "metadata": {},
   "source": [
    "Calculatinng yearly percentage "
   ]
  },
  {
   "cell_type": "code",
   "execution_count": 25,
   "metadata": {},
   "outputs": [],
   "source": [
    "baseline.reset_index(inplace = True)\n",
    "baseline[\"IsLeap\"] = baseline[\"DATE\"].apply(calendar.isleap)\n",
    "baseline['perc'] = np.where(baseline['IsLeap'], baseline['DEV']/366, baseline['DEV']/365)"
   ]
  },
  {
   "cell_type": "markdown",
   "metadata": {},
   "source": [
    "Calculating the mean extreme heat events percentage of the baseline "
   ]
  },
  {
   "cell_type": "code",
   "execution_count": 26,
   "metadata": {},
   "outputs": [
    {
     "data": {
      "text/plain": [
       "0.24845192235715483"
      ]
     },
     "execution_count": 26,
     "metadata": {},
     "output_type": "execute_result"
    }
   ],
   "source": [
    "baseline_percent = baseline.perc.mean()\n",
    "baseline_percent"
   ]
  },
  {
   "cell_type": "markdown",
   "metadata": {},
   "source": [
    "Now applying the methods used above to calculate the extreme heat events for all years in our data"
   ]
  },
  {
   "cell_type": "code",
   "execution_count": 27,
   "metadata": {},
   "outputs": [],
   "source": [
    "cdata[\"DM\"]  = cdata.DATE.astype(str).str[5:]\n",
    "cdata['DEV'] = ((cdata.TAVG - cdata.DM.map(ddata.set_index('DATE').TAVG))/cdata.DM.map(ddata.set_index('DATE').TAVG))"
   ]
  },
  {
   "cell_type": "code",
   "execution_count": 28,
   "metadata": {},
   "outputs": [],
   "source": [
    "percentages = cdata[cdata[\"DEV\"]>0.1].groupby(cdata[\"DATE\"].dt.year).agg('count')\n",
    "percentages.drop(columns={\"DATE\",\"DM\"},inplace=True)\n",
    "\n",
    "percentages.reset_index(inplace = True)\n",
    "percentages[\"IsLeap\"] = percentages[\"DATE\"].apply(calendar.isleap)\n",
    "percentages['perc'] = np.where(percentages['IsLeap'], percentages['DEV']/366, percentages['DEV']/365)\n"
   ]
  },
  {
   "cell_type": "markdown",
   "metadata": {},
   "source": [
    "Plotting the data"
   ]
  },
  {
   "cell_type": "code",
   "execution_count": 29,
   "metadata": {},
   "outputs": [
    {
     "data": {
      "image/png": "[encoded data removed]",
      "text/plain": [
       "<Figure size 432x288 with 1 Axes>"
      ]
     },
     "metadata": {
      "needs_background": "light"
     },
     "output_type": "display_data"
    }
   ],
   "source": [
    "plt.grid()\n",
    "plt.bar(percentages.DATE,percentages.perc,color = (percentages.perc > baseline_percent).map({True: 'orange',\n",
    "                                                    False: 'royalblue'}),width = 0.5)\n",
    "plt.axhline(y = baseline_percent, color = 'grey', linestyle = '-')\n",
    "plt.xlabel(\"Year\")\n",
    "plt.ylabel(\"Extreme heat percentages\")\n",
    "plt.title(\"Extreme heat percentages through the years\")\n",
    "\n",
    "plt.show()"
   ]
  },
  {
   "cell_type": "markdown",
   "metadata": {},
   "source": [
    "Looking at the graph we can conclude that a we progress through the years the extreme heat events are increasing."
   ]
  },
  {
   "cell_type": "markdown",
   "metadata": {},
   "source": [
    "### Q5: Precipitation"
   ]
  },
  {
   "cell_type": "markdown",
   "metadata": {},
   "source": [
    "Assuming that when PRCP is positive we had a rainy day <br />\n",
    "I count all rainy days for every year"
   ]
  },
  {
   "cell_type": "code",
   "execution_count": 30,
   "metadata": {},
   "outputs": [],
   "source": [
    "precipitation = cdata[cdata[\"PRCP\"]>0].groupby(cdata[\"DATE\"].dt.year).agg('count')\n",
    "precipitation.rename(columns={'PRCP': 'RAINY_DAYS'},inplace= True)"
   ]
  },
  {
   "cell_type": "markdown",
   "metadata": {},
   "source": [
    "Summing total rainfall for every year"
   ]
  },
  {
   "cell_type": "code",
   "execution_count": 31,
   "metadata": {},
   "outputs": [],
   "source": [
    "precipitation[\"RAINFALL\"] = cdata[\"PRCP\"].groupby(cdata[\"DATE\"].dt.year).agg('sum')\n",
    "precipitation.drop(columns={\"DATE\",\"TAVG\",\"season_name\"},inplace=True)"
   ]
  },
  {
   "cell_type": "markdown",
   "metadata": {},
   "source": [
    "Calculating an indication of whether we are getting rain in more concentrated bursts."
   ]
  },
  {
   "cell_type": "code",
   "execution_count": 32,
   "metadata": {},
   "outputs": [],
   "source": [
    "precipitation[\"OVERAL_RAINFALL\"] = precipitation[\"RAINFALL\"] / precipitation[\"RAINY_DAYS\"]\n",
    "precipitation[\"rolling\"] = precipitation[\"OVERAL_RAINFALL\"].rolling(10, min_periods = 1).mean()"
   ]
  },
  {
   "cell_type": "markdown",
   "metadata": {},
   "source": [
    "Ploting the ratio of rainfall over rainy days over the years."
   ]
  },
  {
   "cell_type": "code",
   "execution_count": 33,
   "metadata": {},
   "outputs": [
    {
     "data": {
      "image/png": "[encoded data removed]",
      "text/plain": [
       "<Figure size 432x288 with 1 Axes>"
      ]
     },
     "metadata": {
      "needs_background": "light"
     },
     "output_type": "display_data"
    }
   ],
   "source": [
    "plt.grid()\n",
    "plt.bar(precipitation.index,precipitation[\"OVERAL_RAINFALL\"],color = 'royalblue', width = 0.5)\n",
    "plt.plot(precipitation.index,precipitation['rolling'], color = 'darkblue')                             \n",
    "plt.xlabel(\"Year\")\n",
    "plt.ylabel(\"Precipitation\")\n",
    "\n",
    "plt.show()"
   ]
  },
  {
   "cell_type": "markdown",
   "metadata": {},
   "source": [
    "Looking at the grapgh we can see a tendency towards increased rainfall"
   ]
  }
 ],
 "metadata": {
  "interpreter": {
   "hash": "263262201a33f9dd073bfbec7f4f442b89dd60e9e8939d41fd86fa46b539bdd1"
  },
  "kernelspec": {
   "display_name": "Python 3.9.0 64-bit",
   "name": "python3"
  },
  "language_info": {
   "codemirror_mode": {
    "name": "ipython",
    "version": 3
   },
   "file_extension": ".py",
   "mimetype": "text/x-python",
   "name": "python",
   "nbconvert_exporter": "python",
   "pygments_lexer": "ipython3",
   "version": "3.9.0"
  }
 },
 "nbformat": 4,
 "nbformat_minor": 5
}
